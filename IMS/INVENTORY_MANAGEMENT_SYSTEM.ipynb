{
 "cells": [
  {
   "cell_type": "markdown",
   "id": "840fa3d3",
   "metadata": {},
   "source": [
    "# Reading the Records json file"
   ]
  },
  {
   "cell_type": "code",
   "execution_count": 1,
   "id": "bc600729",
   "metadata": {},
   "outputs": [],
   "source": [
    "import json as js\n",
    "\n",
    "file_data = open(\"records.json\", 'r')\n",
    "r = file_data.read()\n",
    "file_data.close()\n",
    "\n",
    "records_dict = js.loads(r)"
   ]
  },
  {
   "cell_type": "markdown",
   "id": "91392b07",
   "metadata": {},
   "source": [
    " # Adding items in the Inventory"
   ]
  },
  {
   "cell_type": "code",
   "execution_count": 3,
   "id": "65aeed77",
   "metadata": {},
   "outputs": [
    {
     "name": "stdout",
     "output_type": "stream",
     "text": [
      "Enter the six digit product id: 102052\n",
      "Enter the quantity of the product: 750\n"
     ]
    }
   ],
   "source": [
    "id_of_prod = input(\"Enter the six digit product id: \")\n",
    "if records_dict.get(id_of_prod):\n",
    "    quant = int(input(\"Enter the quantity of the product: \"))\n",
    "    \n",
    "    records_dict[id_of_prod]['Quantity'] += quant\n",
    "else:\n",
    "    dummy = {}\n",
    "    dummy['name_of_prod'] = input(\"Enter the Name of product: \")\n",
    "    dummy['cost'] = int(input(\"Enter the cost of the product: \"))\n",
    "    dummy['quant'] = int(niput(\"Enter the quantity of the product: \"))\n",
    "    dummy['mfd'] = input(\"Enter the Manufactured date(in yyyy-mm-dd format): \")\n",
    "    dummy['batch'] = input(\"Enter the Batch No of the product: \")\n",
    "    \n",
    "    records_dict[id_of_prod] = dummy\n",
    "    \n",
    "new_data = js.dumps(records_dict)\n",
    "\n",
    "file_data = open(\"records.json\", 'w')\n",
    "file_data.write(new_data)\n",
    "file_data.close()"
   ]
  },
  {
   "cell_type": "markdown",
   "id": "e7e4b7d5",
   "metadata": {},
   "source": [
    "# Purchasing items"
   ]
  },
  {
   "cell_type": "code",
   "execution_count": 4,
   "id": "4eed564d",
   "metadata": {
    "scrolled": true
   },
   "outputs": [
    {
     "name": "stdout",
     "output_type": "stream",
     "text": [
      "Enter the product id: 102045\n",
      "How much you want to purchase: 2\n",
      "You purchased:  Sugar-Buns\n",
      "Cost of one item:  25\n",
      "Total amount to pay:  50\n"
     ]
    }
   ],
   "source": [
    "user_prod_id = input(\"Enter the product id: \")\n",
    "user_quantity = int(input(\"How much you want to purchase: \"))\n",
    "\n",
    "if records_dict[user_prod_id]['Quantity'] >= user_quantity:\n",
    "    print(\"You purchased: \", records_dict[user_prod_id]['Name'])\n",
    "    print(\"Cost of one item: \", records_dict[user_prod_id]['Cost_price'])\n",
    "    print(\"Total amount to pay: \", records_dict[user_prod_id]['Cost_price'] * user_quantity)\n",
    "\n",
    "    records_dict[user_prod_id]['Quantity'] -= user_quantity\n",
    "    if records_dict[user_prod_id]['Quantity'] < 1:\n",
    "        del records_dict[user_prod_id]\n",
    "    \n",
    "    updt_data = js.dumps(records_dict)\n",
    "\n",
    "    file_data = open(\"records.json\", 'w')\n",
    "    file_data.write(updt_data)\n",
    "    file_data.close()\n",
    "else:\n",
    "    print(\"Sorry, we don't have enough items.\")"
   ]
  },
  {
   "cell_type": "markdown",
   "id": "c73fa6d3",
   "metadata": {},
   "source": [
    "# Creating/Updating Sales json file"
   ]
  },
  {
   "cell_type": "code",
   "execution_count": 5,
   "id": "9d75f1ce",
   "metadata": {},
   "outputs": [],
   "source": [
    "import os\n",
    "if os.path.exists('sales.json'):\n",
    "    file_data = open(\"sales.json\", 'r')\n",
    "    prev_data = file_data.read()\n",
    "    file_data.close()\n",
    "    \n",
    "    sales = js.loads(prev_data)\n",
    "    \n",
    "    n = len(sales)\n",
    "    \n",
    "    sales[n+1] = {\"Id\": user_prod_id, \"Name\": records_dict[user_prod_id]['Name'], \"Sold\": user_quantity, \"Amount\": records_dict[user_prod_id]['Cost_price'] * user_quantity}\n",
    "    \n",
    "    new_data = js.dumps(sales)\n",
    "    \n",
    "    file_data = open(\"sales.json\", 'w')\n",
    "    file_data.write(new_data)\n",
    "    file_data.close()\n",
    "else:\n",
    "    sales = {}\n",
    "    \n",
    "    sales[1] = {\"Id\": user_prod_id, \"Name\": records_dict[user_prod_id]['Name'], \"Sold\": user_quantity, \"Amount\": records_dict[user_prod_id]['Cost_price'] * user_quantity}\n",
    "    \n",
    "    new_data = js.dumps(sales)\n",
    "    \n",
    "    file_data = open(\"sales.json\", 'w')\n",
    "    file_data.write(new_data)\n",
    "    file_data.close()"
   ]
  },
  {
   "cell_type": "markdown",
   "id": "b366950d",
   "metadata": {},
   "source": [
    "# View Sales json file"
   ]
  },
  {
   "cell_type": "code",
   "execution_count": 6,
   "id": "4df68c95",
   "metadata": {},
   "outputs": [],
   "source": [
    "file_data = open(\"sales.json\", 'r')\n",
    "sales_data = file_data.read()\n",
    "file_data.close()\n",
    "\n",
    "sales_dict = js.loads(sales_data)"
   ]
  },
  {
   "cell_type": "code",
   "execution_count": 7,
   "id": "f8cbe659",
   "metadata": {},
   "outputs": [
    {
     "data": {
      "text/plain": [
       "{'1': {'Id': '102029', 'Name': 'Everyday-Mints', 'Sold': 30, 'Amount': 150},\n",
       " '2': {'Id': '102050', 'Name': 'Tomato-Chips', 'Sold': 21, 'Amount': 105},\n",
       " '3': {'Id': '102053', 'Name': 'X-mas-Bars', 'Sold': 65, 'Amount': 325},\n",
       " '4': {'Id': '102045', 'Name': 'Sugar-Buns', 'Sold': 2, 'Amount': 50}}"
      ]
     },
     "execution_count": 7,
     "metadata": {},
     "output_type": "execute_result"
    }
   ],
   "source": [
    "sales_dict"
   ]
  }
 ],
 "metadata": {
  "kernelspec": {
   "display_name": "Python 3",
   "language": "python",
   "name": "python3"
  },
  "language_info": {
   "codemirror_mode": {
    "name": "ipython",
    "version": 3
   },
   "file_extension": ".py",
   "mimetype": "text/x-python",
   "name": "python",
   "nbconvert_exporter": "python",
   "pygments_lexer": "ipython3",
   "version": "3.8.8"
  }
 },
 "nbformat": 4,
 "nbformat_minor": 5
}
