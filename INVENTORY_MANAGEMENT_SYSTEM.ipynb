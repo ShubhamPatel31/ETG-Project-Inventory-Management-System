{
 "cells": [
  {
   "cell_type": "markdown",
   "id": "840fa3d3",
   "metadata": {},
   "source": [
    "# Reading the Records json file"
   ]
  },
  {
   "cell_type": "code",
   "execution_count": 1,
   "id": "bc600729",
   "metadata": {},
   "outputs": [],
   "source": [
    "import json as js\n",
    "\n",
    "file_data = open(\"records.json\", 'r')\n",
    "r = file_data.read()\n",
    "file_data.close()\n",
    "\n",
    "records_dict = js.loads(r)"
   ]
  },
  {
   "cell_type": "code",
   "execution_count": 2,
   "id": "4381f746",
   "metadata": {},
   "outputs": [
    {
     "data": {
      "text/plain": [
       "{'102021': {'Name': 'Alpanlive',\n",
       "  'Cost_price': 1,\n",
       "  'Quantity': 4250,\n",
       "  'Mfd': '2021-06-23',\n",
       "  'Batch_No': 'I3443'},\n",
       " '102022': {'Name': 'Bubblegums',\n",
       "  'Cost_price': 2,\n",
       "  'Quantity': 3500,\n",
       "  'Mfd': '2021-06-19',\n",
       "  'Batch_No': 'T8916'},\n",
       " '102023': {'Name': 'Cadburry',\n",
       "  'Cost_price': 10,\n",
       "  'Quantity': 900,\n",
       "  'Mfd': '2021-08-06',\n",
       "  'Batch_No': 'B4931'},\n",
       " '102024': {'Name': 'Candymaan',\n",
       "  'Cost_price': 1,\n",
       "  'Quantity': 3000,\n",
       "  'Mfd': '2021-08-13',\n",
       "  'Batch_No': 'M4210'},\n",
       " '102025': {'Name': 'Choco-latte',\n",
       "  'Cost_price': 25,\n",
       "  'Quantity': 560,\n",
       "  'Mfd': '2021-06-09',\n",
       "  'Batch_No': 'Z1571'},\n",
       " '102026': {'Name': 'Diary-Made',\n",
       "  'Cost_price': 15,\n",
       "  'Quantity': 1500,\n",
       "  'Mfd': '2021-08-15',\n",
       "  'Batch_No': 'P7537'},\n",
       " '102027': {'Name': 'Double-Trouble',\n",
       "  'Cost_price': 12,\n",
       "  'Quantity': 1000,\n",
       "  'Mfd': '2021-08-09',\n",
       "  'Batch_No': 'C6316'},\n",
       " '102028': {'Name': 'Ecliars',\n",
       "  'Cost_price': 2,\n",
       "  'Quantity': 2500,\n",
       "  'Mfd': '2021-05-06',\n",
       "  'Batch_No': 'R0730'},\n",
       " '102029': {'Name': 'Everyday-Mints',\n",
       "  'Cost_price': 5,\n",
       "  'Quantity': 2970,\n",
       "  'Mfd': '2021-07-24',\n",
       "  'Batch_No': 'K5981'},\n",
       " '102030': {'Name': 'Fishy-Fingers',\n",
       "  'Cost_price': 25,\n",
       "  'Quantity': 250,\n",
       "  'Mfd': '2021-05-14',\n",
       "  'Batch_No': 'A5910'},\n",
       " '102031': {'Name': 'Gummy-Tooth',\n",
       "  'Cost_price': 30,\n",
       "  'Quantity': 600,\n",
       "  'Mfd': '2021-05-18',\n",
       "  'Batch_No': 'G7198'},\n",
       " '102032': {'Name': 'Hot-Hot-Yum-Yum',\n",
       "  'Cost_price': 50,\n",
       "  'Quantity': 500,\n",
       "  'Mfd': '2021-05-16',\n",
       "  'Batch_No': 'F0682'},\n",
       " '102033': {'Name': 'Lollipop',\n",
       "  'Cost_price': 5,\n",
       "  'Quantity': 1500,\n",
       "  'Mfd': '2021-05-27',\n",
       "  'Batch_No': 'L1588'},\n",
       " '102034': {'Name': 'Mango-de-lite',\n",
       "  'Cost_price': 12,\n",
       "  'Quantity': 2500,\n",
       "  'Mfd': '2021-05-05',\n",
       "  'Batch_No': 'X6900'},\n",
       " '102035': {'Name': 'Marshian',\n",
       "  'Cost_price': 20,\n",
       "  'Quantity': 300,\n",
       "  'Mfd': '2021-05-20',\n",
       "  'Batch_No': 'Q7382'},\n",
       " '102036': {'Name': 'Milky-Tails',\n",
       "  'Cost_price': 5,\n",
       "  'Quantity': 1200,\n",
       "  'Mfd': '2021-05-13',\n",
       "  'Batch_No': 'P6382'},\n",
       " '102037': {'Name': 'Newdays',\n",
       "  'Cost_price': 15,\n",
       "  'Quantity': 300,\n",
       "  'Mfd': '2021-08-18',\n",
       "  'Batch_No': 'H1379'},\n",
       " '102038': {'Name': 'Peach-Pies',\n",
       "  'Cost_price': 5,\n",
       "  'Quantity': 3000,\n",
       "  'Mfd': '2021-08-04',\n",
       "  'Batch_No': 'C7018'},\n",
       " '102039': {'Name': 'Rainbows',\n",
       "  'Cost_price': 1,\n",
       "  'Quantity': 1500,\n",
       "  'Mfd': '2021-05-21',\n",
       "  'Batch_No': 'K3268'},\n",
       " '102040': {'Name': 'Rings-a-Row',\n",
       "  'Cost_price': 5,\n",
       "  'Quantity': 2500,\n",
       "  'Mfd': '2021-07-03',\n",
       "  'Batch_No': 'M2944'},\n",
       " '102041': {'Name': 'Salty-Wafers',\n",
       "  'Cost_price': 10,\n",
       "  'Quantity': 1100,\n",
       "  'Mfd': '2021-06-13',\n",
       "  'Batch_No': 'C4399'},\n",
       " '102042': {'Name': 'Snackee',\n",
       "  'Cost_price': 20,\n",
       "  'Quantity': 2600,\n",
       "  'Mfd': '2021-08-08',\n",
       "  'Batch_No': 'W2494'},\n",
       " '102043': {'Name': 'Snacktank',\n",
       "  'Cost_price': 5,\n",
       "  'Quantity': 1800,\n",
       "  'Mfd': '2021-06-10',\n",
       "  'Batch_No': 'X6383'},\n",
       " '102044': {'Name': 'Star-Pack',\n",
       "  'Cost_price': 10,\n",
       "  'Quantity': 3400,\n",
       "  'Mfd': '2021-07-07',\n",
       "  'Batch_No': 'F9470'},\n",
       " '102045': {'Name': 'Sugar-Buns',\n",
       "  'Cost_price': 25,\n",
       "  'Quantity': 350,\n",
       "  'Mfd': '2021-06-11',\n",
       "  'Batch_No': 'F8002'},\n",
       " '102046': {'Name': 'Sweet-Bags',\n",
       "  'Cost_price': 1,\n",
       "  'Quantity': 950,\n",
       "  'Mfd': '2021-06-24',\n",
       "  'Batch_No': 'E5390'},\n",
       " '102047': {'Name': 'Three-Stars',\n",
       "  'Cost_price': 5,\n",
       "  'Quantity': 1600,\n",
       "  'Mfd': '2021-05-23',\n",
       "  'Batch_No': 'R8754'},\n",
       " '102048': {'Name': 'Toffee',\n",
       "  'Cost_price': 2,\n",
       "  'Quantity': 3900,\n",
       "  'Mfd': '2021-05-18',\n",
       "  'Batch_No': 'E7815'},\n",
       " '102049': {'Name': 'Treat-Bites',\n",
       "  'Cost_price': 5,\n",
       "  'Quantity': 300,\n",
       "  'Mfd': '2021-08-13',\n",
       "  'Batch_No': 'M0915'},\n",
       " '102050': {'Name': 'Tomato-Chips',\n",
       "  'Cost_price': 5,\n",
       "  'Quantity': 429,\n",
       "  'Mfd': '2021-05-31',\n",
       "  'Batch_No': 'V1223'},\n",
       " '102051': {'Name': 'Victory-Ways',\n",
       "  'Cost_price': 5,\n",
       "  'Quantity': 2000,\n",
       "  'Mfd': '2021-05-16',\n",
       "  'Batch_No': 'O9984'},\n",
       " '102052': {'Name': 'Wonder-Gums',\n",
       "  'Cost_price': 1,\n",
       "  'Quantity': 5000,\n",
       "  'Mfd': '2021-07-04',\n",
       "  'Batch_No': 'S4686'},\n",
       " '102053': {'Name': 'X-mas-Bars',\n",
       "  'Cost_price': 5,\n",
       "  'Quantity': 2535,\n",
       "  'Mfd': '2021-08-11',\n",
       "  'Batch_No': 'L6793'}}"
      ]
     },
     "execution_count": 2,
     "metadata": {},
     "output_type": "execute_result"
    }
   ],
   "source": [
    "records_dict"
   ]
  },
  {
   "cell_type": "markdown",
   "id": "91392b07",
   "metadata": {},
   "source": [
    " # Adding items in the Inventory"
   ]
  },
  {
   "cell_type": "code",
   "execution_count": 3,
   "id": "65aeed77",
   "metadata": {},
   "outputs": [
    {
     "name": "stdout",
     "output_type": "stream",
     "text": [
      "Enter the six digit product id: 102052\n",
      "Enter the quantity of the product: 750\n"
     ]
    }
   ],
   "source": [
    "id_of_prod = input(\"Enter the six digit product id: \")\n",
    "if records_dict.get(id_of_prod):\n",
    "    quant = int(input(\"Enter the quantity of the product: \"))\n",
    "    \n",
    "    records_dict[id_of_prod]['Quantity'] += quant\n",
    "else:\n",
    "    dummy = {}\n",
    "    dummy['name_of_prod'] = input(\"Enter the Name of product: \")\n",
    "    dummy['cost'] = int(input(\"Enter the cost of the product: \"))\n",
    "    dummy['quant'] = int(niput(\"Enter the quantity of the product: \"))\n",
    "    dummy['mfd'] = input(\"Enter the Manufactured date(in yyyy-mm-dd format): \")\n",
    "    dummy['batch'] = input(\"Enter the Batch No of the product: \")\n",
    "    \n",
    "    records_dict[id_of_prod] = dummy\n",
    "    \n",
    "new_data = js.dumps(records_dict)\n",
    "\n",
    "file_data = open(\"records.json\", 'w')\n",
    "file_data.write(new_data)\n",
    "file_data.close()"
   ]
  },
  {
   "cell_type": "markdown",
   "id": "e7e4b7d5",
   "metadata": {},
   "source": [
    "# Purchasing items"
   ]
  },
  {
   "cell_type": "code",
   "execution_count": 4,
   "id": "4eed564d",
   "metadata": {
    "scrolled": true
   },
   "outputs": [
    {
     "name": "stdout",
     "output_type": "stream",
     "text": [
      "Enter the product id: 102045\n",
      "How much you want to purchase: 2\n",
      "You purchased:  Sugar-Buns\n",
      "Cost of one item:  25\n",
      "Total amount to pay:  50\n"
     ]
    }
   ],
   "source": [
    "user_prod_id = input(\"Enter the product id: \")\n",
    "user_quantity = int(input(\"How much you want to purchase: \"))\n",
    "\n",
    "if records_dict[user_prod_id]['Quantity'] >= user_quantity:\n",
    "    print(\"You purchased: \", records_dict[user_prod_id]['Name'])\n",
    "    print(\"Cost of one item: \", records_dict[user_prod_id]['Cost_price'])\n",
    "    print(\"Total amount to pay: \", records_dict[user_prod_id]['Cost_price'] * user_quantity)\n",
    "\n",
    "    records_dict[user_prod_id]['Quantity'] -= user_quantity\n",
    "    if records_dict[user_prod_id]['Quantity'] < 1:\n",
    "        del records_dict[user_prod_id]\n",
    "    \n",
    "    updt_data = js.dumps(records_dict)\n",
    "\n",
    "    file_data = open(\"records.json\", 'w')\n",
    "    file_data.write(updt_data)\n",
    "    file_data.close()\n",
    "else:\n",
    "    print(\"Sorry, we don't have enough items.\")"
   ]
  },
  {
   "cell_type": "markdown",
   "id": "c73fa6d3",
   "metadata": {},
   "source": [
    "# Creating/Updating Sales json file"
   ]
  },
  {
   "cell_type": "code",
   "execution_count": 5,
   "id": "9d75f1ce",
   "metadata": {},
   "outputs": [],
   "source": [
    "import os\n",
    "if os.path.exists('sales.json'):\n",
    "    file_data = open(\"sales.json\", 'r')\n",
    "    prev_data = file_data.read()\n",
    "    file_data.close()\n",
    "    \n",
    "    sales = js.loads(prev_data)\n",
    "    \n",
    "    n = len(sales)\n",
    "    \n",
    "    sales[n+1] = {\"Id\": user_prod_id, \"Name\": records_dict[user_prod_id]['Name'], \"Sold\": user_quantity, \"Amount\": records_dict[user_prod_id]['Cost_price'] * user_quantity}\n",
    "    \n",
    "    new_data = js.dumps(sales)\n",
    "    \n",
    "    file_data = open(\"sales.json\", 'w')\n",
    "    file_data.write(new_data)\n",
    "    file_data.close()\n",
    "else:\n",
    "    sales = {}\n",
    "    \n",
    "    sales[1] = {\"Id\": user_prod_id, \"Name\": records_dict[user_prod_id]['Name'], \"Sold\": user_quantity, \"Amount\": records_dict[user_prod_id]['Cost_price'] * user_quantity}\n",
    "    \n",
    "    new_data = js.dumps(sales)\n",
    "    \n",
    "    file_data = open(\"sales.json\", 'w')\n",
    "    file_data.write(new_data)\n",
    "    file_data.close()"
   ]
  },
  {
   "cell_type": "markdown",
   "id": "b366950d",
   "metadata": {},
   "source": [
    "# View Sales json file"
   ]
  },
  {
   "cell_type": "code",
   "execution_count": 6,
   "id": "4df68c95",
   "metadata": {},
   "outputs": [],
   "source": [
    "file_data = open(\"sales.json\", 'r')\n",
    "sales_data = file_data.read()\n",
    "file_data.close()\n",
    "\n",
    "sales_dict = js.loads(sales_data)"
   ]
  },
  {
   "cell_type": "code",
   "execution_count": 7,
   "id": "f8cbe659",
   "metadata": {},
   "outputs": [
    {
     "data": {
      "text/plain": [
       "{'1': {'Id': '102029', 'Name': 'Everyday-Mints', 'Sold': 30, 'Amount': 150},\n",
       " '2': {'Id': '102050', 'Name': 'Tomato-Chips', 'Sold': 21, 'Amount': 105},\n",
       " '3': {'Id': '102053', 'Name': 'X-mas-Bars', 'Sold': 65, 'Amount': 325},\n",
       " '4': {'Id': '102045', 'Name': 'Sugar-Buns', 'Sold': 2, 'Amount': 50}}"
      ]
     },
     "execution_count": 7,
     "metadata": {},
     "output_type": "execute_result"
    }
   ],
   "source": [
    "sales_dict"
   ]
  }
 ],
 "metadata": {
  "kernelspec": {
   "display_name": "Python 3",
   "language": "python",
   "name": "python3"
  },
  "language_info": {
   "codemirror_mode": {
    "name": "ipython",
    "version": 3
   },
   "file_extension": ".py",
   "mimetype": "text/x-python",
   "name": "python",
   "nbconvert_exporter": "python",
   "pygments_lexer": "ipython3",
   "version": "3.8.8"
  }
 },
 "nbformat": 4,
 "nbformat_minor": 5
}
