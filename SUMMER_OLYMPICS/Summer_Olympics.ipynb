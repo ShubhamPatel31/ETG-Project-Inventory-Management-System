{
 "cells": [
  {
   "cell_type": "markdown",
   "id": "8c836b36",
   "metadata": {},
   "source": [
    "# Summer Olympics Data Analysis Assignment"
   ]
  },
  {
   "cell_type": "code",
   "execution_count": null,
   "id": "92777d5f",
   "metadata": {},
   "outputs": [],
   "source": [
    "import matplotlib.pyplot as pyplt\n",
    "import pandas as pd\n",
    "import numpy as np"
   ]
  },
  {
   "cell_type": "code",
   "execution_count": null,
   "id": "8183435f",
   "metadata": {
    "scrolled": true
   },
   "outputs": [],
   "source": [
    "df = pd.read_csv(\"summer.csv\")\n",
    "df.head()"
   ]
  },
  {
   "cell_type": "markdown",
   "id": "d54471ea",
   "metadata": {},
   "source": [
    "## 1. In how many cities Summer Olympics is held so far?"
   ]
  },
  {
   "cell_type": "code",
   "execution_count": null,
   "id": "d88fa3b0",
   "metadata": {
    "code_folding": []
   },
   "outputs": [],
   "source": [
    "# Answer is 22\n",
    "print(len(df.City.unique()))"
   ]
  },
  {
   "cell_type": "markdown",
   "id": "2240ad98",
   "metadata": {},
   "source": [
    "## 2. Which sport is having most number of Gold Medals so far? (Top 5)"
   ]
  },
  {
   "cell_type": "code",
   "execution_count": null,
   "id": "eddb55a1",
   "metadata": {},
   "outputs": [],
   "source": [
    "data = df[df.Medal == 'Gold'].groupby(['Sport']).Medal.size().sort_values(ascending=False)\n",
    "data = pd.DataFrame(data).reset_index()\n",
    "data.columns = ['Sport', 'Gold Medals']\n",
    "data.head().plot.bar(x = 'Sport',y = 'Gold Medals', figsize=(5,5))"
   ]
  },
  {
   "cell_type": "markdown",
   "id": "1b12d5a4",
   "metadata": {},
   "source": [
    "## 3. Which sport is having most number of medals so far? (Top 5)"
   ]
  },
  {
   "cell_type": "code",
   "execution_count": null,
   "id": "bc32081d",
   "metadata": {},
   "outputs": [],
   "source": [
    "data = df.groupby(['Sport']).Medal.size().sort_values(ascending=False)\n",
    "data = pd.DataFrame(data).reset_index()\n",
    "data.columns = ['Sport', 'Medals']\n",
    "data.head().plot.bar(x = 'Sport',y = 'Medals', figsize=(5,5))"
   ]
  },
  {
   "cell_type": "markdown",
   "id": "f44a1219",
   "metadata": {},
   "source": [
    "## 4. Which player has won most number of medals? (Top 5)"
   ]
  },
  {
   "cell_type": "code",
   "execution_count": null,
   "id": "faedad98",
   "metadata": {
    "scrolled": true
   },
   "outputs": [],
   "source": [
    "data = df.groupby(['Athlete']).Medal.size().sort_values(ascending=False)\n",
    "data = pd.DataFrame(data).reset_index()\n",
    "data.columns = ['Athlete', 'Medals']\n",
    "data.head().plot.bar(x = 'Athlete',y = 'Medals', figsize=(5,5))"
   ]
  },
  {
   "cell_type": "markdown",
   "id": "bd73ba08",
   "metadata": {},
   "source": [
    "## 5. Which player has won most number Gold Medals of medals? (Top 5)"
   ]
  },
  {
   "cell_type": "code",
   "execution_count": null,
   "id": "5f12acfd",
   "metadata": {},
   "outputs": [],
   "source": [
    "data = df[df.Medal == 'Gold'].groupby(['Athlete']).Medal.size().sort_values(ascending=False)\n",
    "data = pd.DataFrame(data).reset_index()\n",
    "data.columns = ['Athlete', 'Gold Medals']\n",
    "data.head().plot.bar(x = 'Athlete',y = 'Gold Medals', figsize=(5,5))"
   ]
  },
  {
   "cell_type": "markdown",
   "id": "d4f1c62f",
   "metadata": {},
   "source": [
    "## 6. In which year India won first Gold Medal in Summer Olympics?"
   ]
  },
  {
   "cell_type": "code",
   "execution_count": null,
   "id": "335eed57",
   "metadata": {},
   "outputs": [],
   "source": [
    "df_IND = df[df.Country == 'IND']\n",
    "df_IND_Gold = df_IND[df_IND.Medal == 'Gold']\n",
    "print(df_IND_Gold.Year.unique().min())"
   ]
  },
  {
   "cell_type": "markdown",
   "id": "b868c84b",
   "metadata": {},
   "source": [
    "## 7. Which event is most popular in terms on number of players? (Top 5)"
   ]
  },
  {
   "cell_type": "code",
   "execution_count": null,
   "id": "48e0f3bc",
   "metadata": {},
   "outputs": [],
   "source": [
    "data = df.groupby(['Event']).Athlete.size().sort_values(ascending=False)\n",
    "data = pd.DataFrame(data).reset_index()\n",
    "data.columns = ['Event', 'Athlete']\n",
    "data.head().plot.bar(x = 'Event',y = 'Athlete', figsize=(5,5))"
   ]
  },
  {
   "cell_type": "markdown",
   "id": "7645167e",
   "metadata": {},
   "source": [
    "## 8. Which sport is having most female Gold Medalists? (Top 5)"
   ]
  },
  {
   "cell_type": "code",
   "execution_count": null,
   "id": "aee9b9c6",
   "metadata": {},
   "outputs": [],
   "source": [
    "data = df[df.Gender == 'Women']\n",
    "data = data[data.Medal == 'Gold'].groupby(['Sport']).Medal.size().sort_values(ascending=False)\n",
    "data = pd.DataFrame(data).reset_index()\n",
    "data.columns = ['Sport', 'Female Gold Medalists']\n",
    "data.head().plot.bar(x = 'Sport',y = 'Female Gold Medalists', figsize=(5,5))"
   ]
  }
 ],
 "metadata": {
  "kernelspec": {
   "display_name": "Python 3 (ipykernel)",
   "language": "python",
   "name": "python3"
  },
  "language_info": {
   "codemirror_mode": {
    "name": "ipython",
    "version": 3
   },
   "file_extension": ".py",
   "mimetype": "text/x-python",
   "name": "python",
   "nbconvert_exporter": "python",
   "pygments_lexer": "ipython3",
   "version": "3.8.8"
  }
 },
 "nbformat": 4,
 "nbformat_minor": 5
}
